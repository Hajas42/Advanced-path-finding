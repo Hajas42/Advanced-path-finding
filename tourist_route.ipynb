{
 "cells": [
  {
   "cell_type": "code",
   "execution_count": 4,
   "id": "7aeac2ed",
   "metadata": {
    "pycharm": {
     "name": "#%%\n"
    }
   },
   "outputs": [],
   "source": [
    "import math\n",
    "import networkx as nx\n",
    "import osmnx as ox\n",
    "import pyrosm"
   ]
  },
  {
   "cell_type": "code",
   "execution_count": 5,
   "id": "5be562f9",
   "metadata": {
    "pycharm": {
     "name": "#%%\n"
    }
   },
   "outputs": [],
   "source": [
    "G = ox.graph_from_place('Budapest', network_type='drive')"
   ]
  },
  {
   "cell_type": "code",
   "execution_count": 6,
   "id": "f3be46e3",
   "metadata": {
    "pycharm": {
     "name": "#%%\n"
    }
   },
   "outputs": [],
   "source": [
    "# geometry_hun = ox.geometries.geometries_from_place(\"Budapest\", tags={'tourism': True})"
   ]
  },
  {
   "cell_type": "code",
   "execution_count": 7,
   "id": "52fcb814",
   "metadata": {
    "pycharm": {
     "name": "#%%\n"
    }
   },
   "outputs": [],
   "source": [
    "# s = set()\n",
    "# for x in geometry_hun[\"tourism\"]:\n",
    "#     s.add(x)\n",
    "# s\n",
    "# ezek lehetnek a tourism tag-hez rendelve"
   ]
  },
  {
   "cell_type": "code",
   "execution_count": 27,
   "outputs": [],
   "source": [
    "# Budapest\n",
    "source = (19.022058, 47.461703) # Kelenföld vasútállomás\n",
    "target = (19.088286, 47.499008) # Arena Mall\n",
    "\n",
    "# Budapest\n",
    "# source = (19.124796, 47.563072) # Hotel Palota City\n",
    "# target = (18.974818, 47.516408) # Libegő\n",
    "\n",
    "# Eger\n",
    "# source = (20.377699, 47.892877)\n",
    "# target = (20.369472, 47.925571)"
   ],
   "metadata": {
    "collapsed": false,
    "pycharm": {
     "name": "#%%\n"
    }
   }
  },
  {
   "cell_type": "code",
   "execution_count": null,
   "id": "f668c3c9",
   "metadata": {
    "pycharm": {
     "name": "#%%\n",
     "is_executing": true
    }
   },
   "outputs": [],
   "source": [
    "def heur_func(tourism_place, nearest_node, source_node, target_node):\n",
    "    if tourism_place[1]['tourism'] in ['hotel', 'hostel', 'motel', 'information', 'guest_house', 'apartment']:\n",
    "        return -1\n",
    "    try:\n",
    "        path_length_from_source = nx.shortest_path_length(G, source_node, nearest_node)\n",
    "        path_length_to_target = nx.shortest_path_length(G, nearest_node, target_node)\n",
    "        score = 100/(path_length_from_source + path_length_to_target)\n",
    "        keys = tourism_place[1].keys()\n",
    "        relevant_tags = {   'name'          : 100,\n",
    "                            'name:en'       : 20,\n",
    "                            'url'           : 60,\n",
    "                            'website'       : 60,\n",
    "                            'phone'         : 50,\n",
    "                            'email'         : 50,\n",
    "                            'facebook'      : 50,\n",
    "                            'wikipedia'     : 50,\n",
    "                            'artist_name'   : 10\n",
    "                         }\n",
    "        for tag, value in relevant_tags.items():\n",
    "            if tag in keys and isinstance(tourism_place[1][tag], str):\n",
    "                score = score + value\n",
    "        return score\n",
    "    except Exception as ex:\n",
    "        print(str(ex))\n",
    "        return -1\n",
    "\n",
    "def generate_key(tourism_place_details):\n",
    "    relevant_tags = ['tourism', 'name', 'alt_name']\n",
    "    keys = tourism_place_details.keys()\n",
    "    key_dict = []\n",
    "    for tag in relevant_tags:\n",
    "        if tag in keys and isinstance(tourism_place_details[tag], str):\n",
    "            key_dict.append((tag, tourism_place_details[tag]))\n",
    "    return str(key_dict)\n",
    "\n",
    "def get_tourism_route(source, target, max_dist=1000, max_tourism_places=5):\n",
    "    source_node = ox.nearest_nodes(G, source[0], source[1])\n",
    "    target_node = ox.nearest_nodes(G, target[0], target[1])\n",
    "    route = nx.shortest_path(G, source_node, target_node)\n",
    "    heuristic_values = {}\n",
    "\n",
    "    evaluated_tourism_places = set()\n",
    "    # collect near tourist places\n",
    "    index = 0\n",
    "    for node in route:\n",
    "        tourism_places = ox.geometries.geometries_from_point((G.nodes[node]['y'], G.nodes[node]['x']), tags={'tourism': True}, dist=max_dist)\n",
    "        for tourism_place in tourism_places.iterrows():\n",
    "            key = generate_key(tourism_place[1])\n",
    "            if key not in evaluated_tourism_places:\n",
    "                evaluated_tourism_places.add(key)\n",
    "                geometry = tourism_place[1].geometry\n",
    "                x = geometry.centroid.x\n",
    "                y = geometry.centroid.y\n",
    "                nearest_node = ox.nearest_nodes(G, x, y)\n",
    "                score = heur_func(tourism_place, nearest_node, source_node, target_node)\n",
    "                if score > 0:\n",
    "                    heuristic_values[key] = (score, index, nearest_node, tourism_place[1])\n",
    "                    index = index + 1\n",
    "    \n",
    "    places_sorted_by_scores = {k: v for k, v in sorted(heuristic_values.items(), key=lambda item: item[1][0], reverse=True)}\n",
    "    places_sorted_by_scores = list(places_sorted_by_scores.items())\n",
    "    shortlisted_places = {}\n",
    "    for i in range(min(max_tourism_places, len(places_sorted_by_scores))):\n",
    "        shortlisted_places[places_sorted_by_scores[i][0]] = places_sorted_by_scores[i][1]\n",
    "    places_in_visiting_order = {k: v for k, v in sorted(shortlisted_places.items(), key=lambda item: item[1][1], reverse=False)}\n",
    "\n",
    "    route = []\n",
    "    # TODO: visit tourist places in their original order\n",
    "    for key, value in places_in_visiting_order.items():\n",
    "        tourism_target_node = value[2]\n",
    "        shortest_path = nx.shortest_path(G, source_node, tourism_target_node)[:-1]\n",
    "        print(key)\n",
    "        # ox.plot_graph_route(G, shortest_path, node_size=0, figsize=(10,10))\n",
    "        route += shortest_path\n",
    "        source_node = tourism_target_node\n",
    "    \n",
    "    route += nx.shortest_path(G, source_node, target_node)\n",
    "    ox.plot_graph_route(G, route, node_size=0, figsize=(20,20))\n",
    "    return route\n",
    "\n",
    "route = get_tourism_route(source, target, max_dist=1000)"
   ]
  },
  {
   "cell_type": "code",
   "execution_count": 68,
   "id": "34e42dc8",
   "metadata": {
    "pycharm": {
     "name": "#%%\n"
    }
   },
   "outputs": [],
   "source": []
  },
  {
   "cell_type": "code",
   "execution_count": 69,
   "id": "b8fbb2db",
   "metadata": {
    "pycharm": {
     "name": "#%%\n"
    }
   },
   "outputs": [
    {
     "data": {
      "text/plain": "[3097782728,\n 59768162,\n 1811906090,\n 1811906093,\n 268732979,\n 1308092210,\n 1308092206,\n 59768240,\n 2052921652,\n 263258025,\n 59768247,\n 223746850,\n 435189038,\n 59768256,\n 152550350,\n 256537955,\n 256537844,\n 268936802,\n 256537844,\n 41468928,\n 154476503,\n 268883048,\n 154476505,\n 154422835,\n 1544888404,\n 154422835,\n 268745520,\n 3308156710,\n 60760380,\n 84696038,\n 305190128,\n 1408226495,\n 305187095,\n 60760387,\n 280336692,\n 60760389,\n 694096833,\n 652910955,\n 130591284,\n 151015385,\n 1418729903,\n 1418729907,\n 151015316,\n 280186447,\n 280186446,\n 280186486,\n 110342354,\n 694096835,\n 5578589784,\n 4469187919,\n 151015492,\n 1418729910,\n 1418729909,\n 1418729919,\n 151015316,\n 280186447,\n 60760393,\n 3309544898,\n 110342082,\n 60760394,\n 101497082,\n 101497078,\n 1104328666,\n 3307603811,\n 3307603812,\n 1104328550,\n 280178523,\n 257727592,\n 280178492,\n 280178517,\n 280178511,\n 1104328442,\n 1104329051,\n 275298256,\n 275298259,\n 280187760,\n 3781632840,\n 2619599977]"
     },
     "execution_count": 69,
     "metadata": {},
     "output_type": "execute_result"
    }
   ],
   "source": [
    "route"
   ]
  },
  {
   "cell_type": "code",
   "execution_count": 69,
   "id": "4b926a11",
   "metadata": {
    "pycharm": {
     "name": "#%%\n"
    }
   },
   "outputs": [],
   "source": []
  }
 ],
 "metadata": {
  "kernelspec": {
   "display_name": "Python 3.8.0 64-bit",
   "language": "python",
   "name": "python3"
  },
  "language_info": {
   "codemirror_mode": {
    "name": "ipython",
    "version": 3
   },
   "file_extension": ".py",
   "mimetype": "text/x-python",
   "name": "python",
   "nbconvert_exporter": "python",
   "pygments_lexer": "ipython3",
   "version": "3.8.0"
  },
  "vscode": {
   "interpreter": {
    "hash": "b231ffbf628136164949d8b99fa6e5b1a56587069638dc4b58456634fd08ff32"
   }
  }
 },
 "nbformat": 4,
 "nbformat_minor": 5
}