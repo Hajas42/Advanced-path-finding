{
 "cells": [
  {
   "cell_type": "code",
   "execution_count": 2,
   "id": "7aeac2ed",
   "metadata": {},
   "outputs": [],
   "source": [
    "import networkx as nx\n",
    "import osmnx as ox\n",
    "import pyrosm"
   ]
  },
  {
   "cell_type": "code",
   "execution_count": 3,
   "id": "5be562f9",
   "metadata": {},
   "outputs": [],
   "source": [
    "G = ox.graph_from_place('Budapest', network_type='drive')"
   ]
  },
  {
   "cell_type": "code",
   "execution_count": 4,
   "id": "f3be46e3",
   "metadata": {},
   "outputs": [],
   "source": [
    "# geometry_hun = ox.geometries.geometries_from_place(\"Budapest\", tags={'tourism': True})"
   ]
  },
  {
   "cell_type": "code",
   "execution_count": 5,
   "id": "52fcb814",
   "metadata": {},
   "outputs": [
    {
     "ename": "NameError",
     "evalue": "name 'geometry_hun' is not defined",
     "output_type": "error",
     "traceback": [
      "\u001b[1;31m---------------------------------------------------------------------------\u001b[0m",
      "\u001b[1;31mNameError\u001b[0m                                 Traceback (most recent call last)",
      "Cell \u001b[1;32mIn [5], line 2\u001b[0m\n\u001b[0;32m      1\u001b[0m s \u001b[39m=\u001b[39m \u001b[39mset\u001b[39m()\n\u001b[1;32m----> 2\u001b[0m \u001b[39mfor\u001b[39;00m x \u001b[39min\u001b[39;00m geometry_hun[\u001b[39m\"\u001b[39m\u001b[39mtourism\u001b[39m\u001b[39m\"\u001b[39m]:\n\u001b[0;32m      3\u001b[0m     s\u001b[39m.\u001b[39madd(x)\n\u001b[0;32m      4\u001b[0m s\n",
      "\u001b[1;31mNameError\u001b[0m: name 'geometry_hun' is not defined"
     ]
    }
   ],
   "source": [
    "# s = set()\n",
    "# for x in geometry_hun[\"tourism\"]:\n",
    "#     s.add(x)\n",
    "# s\n",
    "# ezek lehetnek a tourism tag-hez rendelve"
   ]
  },
  {
   "cell_type": "code",
   "execution_count": 8,
   "id": "ec31f2b4",
   "metadata": {},
   "outputs": [],
   "source": [
    "def heur_func(tourism_place, source_node, target_node):\n",
    "    path_length_from_source = nx.shortest_path_length(source_node, tourism_place)\n",
    "    path_length_to_target = nx.shortest_path_length(tourism_place, target_node)\n",
    "    print(tourism_place)\n",
    "    return 10000/(path_length_from_source + path_length_to_target)"
   ]
  },
  {
   "cell_type": "code",
   "execution_count": 12,
   "id": "f668c3c9",
   "metadata": {},
   "outputs": [],
   "source": [
    "def get_tourism_route(source, target, max_dist=1000, max_tourism_places=5):\n",
    "    source_node = ox.nearest_nodes(G, source[0], source[1])\n",
    "    target_node = ox.nearest_nodes(G, target[0], target[1])\n",
    "    print(source_node)\n",
    "    print(target_node)\n",
    "    route = nx.shortest_path(G, source_node, target_node)\n",
    "    print(\"nodes in route: \"  + str(len(route)))\n",
    "    heuristic_values = {}\n",
    "    \n",
    "    # collect near tourist places\n",
    "    for node in route:\n",
    "        tourism_places = ox.geometries.geometries_from_point((G.nodes[node]['x'], G.nodes[node]['y']), tags={'tourism': True}, dist=max_dist)\n",
    "        for tourism_place in tourism_places.iterrows():\n",
    "            heuristic_values[tourism_place] = heur_func(tourism_place, source_node, target_node)\n",
    "    \n",
    "    sorted_heuristic_values = sorted(heuristic_values, reverse=True)\n",
    "    print(\"len(sorted_heuristic_values): \" + str(len(sorted_heuristic_values)))\n",
    "    route = []\n",
    "    for i in range(min(max_tourism_places, len(sorted_heuristic_values))):\n",
    "        tourism_target = sorted_heuristic_values[i]['osmid']\n",
    "        route += nx.shortest_path(G, source_node, tourism_target)[:-1]\n",
    "        source_node = tourism_target\n",
    "    \n",
    "    route += nx.shortest_path(G, source_node, target_node)\n",
    "    ox.plot_graph_route(G, route, node_size=0, figsize=(20,20))\n",
    "    return route\n",
    "    "
   ]
  },
  {
   "cell_type": "code",
   "execution_count": 13,
   "id": "34e42dc8",
   "metadata": {},
   "outputs": [
    {
     "name": "stdout",
     "output_type": "stream",
     "text": [
      "3097782728\n",
      "2619599977\n",
      "nodes in route: 55\n"
     ]
    }
   ],
   "source": [
    "source = (19.022058, 47.461703) #(20.377699, 47.892877) #\n",
    "target = (19.088286, 47.499008) #(20.369472, 47.925571) #\n",
    "\n",
    "route = get_tourism_route(source, target, 5000)"
   ]
  },
  {
   "cell_type": "code",
   "execution_count": 47,
   "id": "b8fbb2db",
   "metadata": {},
   "outputs": [
    {
     "data": {
      "text/plain": [
       "[3097782728,\n",
       " 59768162,\n",
       " 1811906090,\n",
       " 1811906093,\n",
       " 268732979,\n",
       " 1308092210,\n",
       " 1308092206,\n",
       " 59768240,\n",
       " 2052921652,\n",
       " 263258025,\n",
       " 59768247,\n",
       " 223746850,\n",
       " 435189038,\n",
       " 59768256,\n",
       " 152550350,\n",
       " 256537955,\n",
       " 256537844,\n",
       " 41468928,\n",
       " 154476503,\n",
       " 268883048,\n",
       " 154476505,\n",
       " 154422835,\n",
       " 268745520,\n",
       " 3308156710,\n",
       " 60760380,\n",
       " 84696038,\n",
       " 305190128,\n",
       " 1408226495,\n",
       " 305187095,\n",
       " 60760387,\n",
       " 280336692,\n",
       " 60760389,\n",
       " 694096833,\n",
       " 652910955,\n",
       " 130591284,\n",
       " 151015385,\n",
       " 1418729903,\n",
       " 1418729907,\n",
       " 151015316,\n",
       " 280186447,\n",
       " 60760393,\n",
       " 3309544898,\n",
       " 110342082,\n",
       " 60760394,\n",
       " 365100657,\n",
       " 1994276657,\n",
       " 2678873635,\n",
       " 683359755,\n",
       " 1103805292,\n",
       " 1105862988,\n",
       " 280187764,\n",
       " 101488262,\n",
       " 280187760,\n",
       " 3781632840,\n",
       " 2619599977]"
      ]
     },
     "execution_count": 47,
     "metadata": {},
     "output_type": "execute_result"
    }
   ],
   "source": [
    "route"
   ]
  },
  {
   "cell_type": "code",
   "execution_count": null,
   "id": "4b926a11",
   "metadata": {},
   "outputs": [],
   "source": []
  }
 ],
 "metadata": {
  "kernelspec": {
   "display_name": "Python 3.8.0 64-bit",
   "language": "python",
   "name": "python3"
  },
  "language_info": {
   "codemirror_mode": {
    "name": "ipython",
    "version": 3
   },
   "file_extension": ".py",
   "mimetype": "text/x-python",
   "name": "python",
   "nbconvert_exporter": "python",
   "pygments_lexer": "ipython3",
   "version": "3.8.0"
  },
  "vscode": {
   "interpreter": {
    "hash": "b231ffbf628136164949d8b99fa6e5b1a56587069638dc4b58456634fd08ff32"
   }
  }
 },
 "nbformat": 4,
 "nbformat_minor": 5
}
